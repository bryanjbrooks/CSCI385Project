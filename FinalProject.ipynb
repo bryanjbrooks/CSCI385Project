{
 "cells": [
  {
   "cell_type": "code",
   "execution_count": 64,
   "metadata": {},
   "outputs": [],
   "source": [
    "import numpy as np\n",
    "import time"
   ]
  },
  {
   "cell_type": "code",
   "execution_count": 65,
   "metadata": {},
   "outputs": [
    {
     "name": "stdout",
     "output_type": "stream",
     "text": [
      "NumPy Version: 1.26.2\n",
      "\n",
      "Current NumPy Configuration:\n",
      "Build Dependencies:\n",
      "  blas:\n",
      "    detection method: pkgconfig\n",
      "    found: true\n",
      "    include directory: /c/opt/64/include\n",
      "    lib directory: /c/opt/64/lib\n",
      "    name: openblas64\n",
      "    openblas configuration: USE_64BITINT=1 DYNAMIC_ARCH=1 DYNAMIC_OLDER= NO_CBLAS=\n",
      "      NO_LAPACK= NO_LAPACKE= NO_AFFINITY=1 USE_OPENMP= SKYLAKEX MAX_THREADS=2\n",
      "    pc file directory: C:/opt/64/lib/pkgconfig\n",
      "    version: 0.3.23.dev\n",
      "  lapack:\n",
      "    detection method: internal\n",
      "    found: true\n",
      "    include directory: unknown\n",
      "    lib directory: unknown\n",
      "    name: dep2306486572304\n",
      "    openblas configuration: unknown\n",
      "    pc file directory: unknown\n",
      "    version: 1.26.2\n",
      "Compilers:\n",
      "  c:\n",
      "    commands: cl\n",
      "    linker: link\n",
      "    name: msvc\n",
      "    version: 19.29.30152\n",
      "  c++:\n",
      "    commands: cl\n",
      "    linker: link\n",
      "    name: msvc\n",
      "    version: 19.29.30152\n",
      "  cython:\n",
      "    commands: cython\n",
      "    linker: cython\n",
      "    name: cython\n",
      "    version: 3.0.5\n",
      "Machine Information:\n",
      "  build:\n",
      "    cpu: x86_64\n",
      "    endian: little\n",
      "    family: x86_64\n",
      "    system: windows\n",
      "  host:\n",
      "    cpu: x86_64\n",
      "    endian: little\n",
      "    family: x86_64\n",
      "    system: windows\n",
      "Python Information:\n",
      "  path: C:\\Users\\runneradmin\\AppData\\Local\\Temp\\cibw-run-8ledwbr4\\cp311-win_amd64\\build\\venv\\Scripts\\python.exe\n",
      "  version: '3.11'\n",
      "SIMD Extensions:\n",
      "  baseline:\n",
      "  - SSE\n",
      "  - SSE2\n",
      "  - SSE3\n",
      "  found:\n",
      "  - SSSE3\n",
      "  - SSE41\n",
      "  - POPCNT\n",
      "  - SSE42\n",
      "  - AVX\n",
      "  - F16C\n",
      "  - FMA3\n",
      "  - AVX2\n",
      "  not found:\n",
      "  - AVX512F\n",
      "  - AVX512CD\n",
      "  - AVX512_SKX\n",
      "  - AVX512_CLX\n",
      "  - AVX512_CNL\n",
      "  - AVX512_ICL\n",
      "\n",
      "\n",
      "Current NumPy Runtime Configuration:\n",
      "[{'numpy_version': '1.26.2',\n",
      "  'python': '3.11.9 (tags/v3.11.9:de54cf5, Apr  2 2024, 10:12:12) [MSC v.1938 '\n",
      "            '64 bit (AMD64)]',\n",
      "  'uname': uname_result(system='Windows', node='BrooksiesLaptop', release='10', version='10.0.22631', machine='AMD64')},\n",
      " {'simd_extensions': {'baseline': ['SSE', 'SSE2', 'SSE3'],\n",
      "                      'found': ['SSSE3',\n",
      "                                'SSE41',\n",
      "                                'POPCNT',\n",
      "                                'SSE42',\n",
      "                                'AVX',\n",
      "                                'F16C',\n",
      "                                'FMA3',\n",
      "                                'AVX2'],\n",
      "                      'not_found': ['AVX512F',\n",
      "                                    'AVX512CD',\n",
      "                                    'AVX512_SKX',\n",
      "                                    'AVX512_CLX',\n",
      "                                    'AVX512_CNL',\n",
      "                                    'AVX512_ICL']}},\n",
      " {'architecture': 'Zen',\n",
      "  'filepath': 'C:\\\\Python311\\\\Lib\\\\site-packages\\\\numpy.libs\\\\libopenblas64__v0.3.23-293-gc2f4bdbb-gcc_10_3_0-2bde3a66a51006b2b53eb373ff767a3f.dll',\n",
      "  'internal_api': 'openblas',\n",
      "  'num_threads': 16,\n",
      "  'prefix': 'libopenblas',\n",
      "  'threading_layer': 'pthreads',\n",
      "  'user_api': 'blas',\n",
      "  'version': '0.3.23.dev'}]\n"
     ]
    }
   ],
   "source": [
    "print(f\"NumPy Version: {np.version.version}\")\n",
    "print(\"\\nCurrent NumPy Configuration:\")\n",
    "np.show_config()\n",
    "print(\"\\nCurrent NumPy Runtime Configuration:\")\n",
    "np.show_runtime()"
   ]
  },
  {
   "cell_type": "code",
   "execution_count": 66,
   "metadata": {},
   "outputs": [],
   "source": [
    "# Generate Random Matrices and Vectors\n",
    "s1 = 250 # Size of matrices for matrix multiplication\n",
    "s2 = 1000 # Size of matrix and vector for matrix vector multiplication\n",
    "s3 = 10000000 # Size of vectors for addition, subtraction and dot product\n",
    "\n",
    "rng = np.random.default_rng()\n",
    "\n",
    "A = rng.integers(0, 101, (s1, s1)) \n",
    "B = rng.integers(0, 101, (s1, s1))\n",
    "C = rng.integers(0, 101, (s2, s2))\n",
    "D = rng.integers(0, 101, s2)\n",
    "E = rng.integers(0, 101, s3)\n",
    "F = rng.integers(0, 101, s3)"
   ]
  },
  {
   "cell_type": "code",
   "execution_count": 67,
   "metadata": {},
   "outputs": [
    {
     "name": "stdout",
     "output_type": "stream",
     "text": [
      "A: (250, 250), int64\n",
      "[[88 21 52 ... 79  4 14]\n",
      " [73 12 38 ... 55 61 11]\n",
      " [65 65 23 ... 23 28 32]\n",
      " ...\n",
      " [89 70 61 ... 30  8 40]\n",
      " [ 5 25 41 ... 27 56 81]\n",
      " [ 4 94 35 ... 53 84 63]]\n",
      "\n"
     ]
    }
   ],
   "source": [
    "print(f\"A: {A.shape}, {A.dtype}\\n{A}\\n\")"
   ]
  },
  {
   "cell_type": "code",
   "execution_count": 68,
   "metadata": {},
   "outputs": [
    {
     "name": "stdout",
     "output_type": "stream",
     "text": [
      "B: (250, 250), int64\n",
      "[[15 25 38 ... 21 18 52]\n",
      " [63 49 88 ... 84  9 22]\n",
      " [31 73 84 ...  7 20 30]\n",
      " ...\n",
      " [39 40 36 ... 58 97 73]\n",
      " [62 76 30 ... 52 79 30]\n",
      " [ 5 17 98 ... 66 95 64]]\n",
      "\n"
     ]
    }
   ],
   "source": [
    "print(f\"B: {B.shape}, {B.dtype}\\n{B}\\n\")"
   ]
  },
  {
   "cell_type": "code",
   "execution_count": 69,
   "metadata": {},
   "outputs": [
    {
     "name": "stdout",
     "output_type": "stream",
     "text": [
      "C: (1000, 1000), int64\n",
      "[[17 98 77 ... 13 95 47]\n",
      " [19 56  4 ... 61  9 30]\n",
      " [ 9 24 42 ... 10 65 88]\n",
      " ...\n",
      " [70 35 21 ... 49 73 70]\n",
      " [29 70 92 ... 26 21 61]\n",
      " [39 55 20 ... 86 57 25]]\n",
      "\n"
     ]
    }
   ],
   "source": [
    "print(f\"C: {C.shape}, {C.dtype}\\n{C}\\n\")"
   ]
  },
  {
   "cell_type": "code",
   "execution_count": 70,
   "metadata": {},
   "outputs": [
    {
     "name": "stdout",
     "output_type": "stream",
     "text": [
      "D: (1000,), int64\n",
      "[ 17  12  43  69  57  75  20  77  83  51  64  11  18  97  49   7  32  58\n",
      "  15  48  62  41  48   3  44  34  22   0  14  86  34  66   1  63  66   1\n",
      "  90  92  36  64  81  43  75  15  47  39  52  85   7  37  12  33   4  79\n",
      "  39   6  24  17  34   3  72  19  76  82  62  76   7  81  27   0  50  67\n",
      "  69  13  70  23   6  61  21  43  42 100  93  31  62  98  96   7  25  38\n",
      "  80  54  69  21  65  93  63  19  77  75  69  60  74  26  57  45  63  91\n",
      "  70  63  57   3  95  64  22  51  94   8  91  74  45  74  61  47  64  35\n",
      "   3  52 100  32  18  32  95  70  48   5   8  68  94  41  78  65  58  21\n",
      "   4  23  58  20  28  16  86  67  31  87   6  74  12  43  73  87  19  33\n",
      "  99  37  16  86  35  12  76  29  39  54  55  76  46  67  97  18  76  41\n",
      "  40  74  66  25  34  47  63  22  76  23  54  84  13  75  98  93  32  25\n",
      "  67  43  91   1  91  99  86  84  70  75  46  74  66  79  90  74  43  32\n",
      "  91  82  91  44  54  25  54  50  58  58   2  99  71  58   0  12  10  27\n",
      "  87  80  21  27  46   0  40  84  82  86  56  69  29  99  61   5  14  70\n",
      "  78  14  45  21  83  71  14  52  99  66  69  91   4  40  43  19  68  82\n",
      "  27  65  34  99  11  16   9  44  69  65   7  93  59   8  18  60  69 100\n",
      "  14  98   7  79  50  55  83   8  69  28  80   8  19  85   1   0  62  96\n",
      "  91   6  62  19  10  98  39  51  12  29  83  96  90  43  55  11   4  12\n",
      "  97  93  56  87  26  60  43  64  98  74   4  76  99  89  39  22   9  26\n",
      "  66  30  12 100  33  66  50  36  36  81  56  59  47  70  10  21  77  27\n",
      "  73  96  81  79  64  45  87  23  19  23  55  90  88  48  44  92  45  41\n",
      "   3   0  96  59  13  60  86  86  27   7  67  63  25  80  31  13  20   5\n",
      "  72  23  64  25   1  12  73  17  10  27  45  87  22  55  16  34  45   1\n",
      "  30  45  93  82  18  96  52  40  40   0  53  95  61  50  54  97  39   5\n",
      "  85  26  10  36  55  35  45  11  77   0   5  27  18  71  44  94  39   0\n",
      "   4  16  70  93  26  46  69  61  65  16  48  68  73  48  96   1  55  16\n",
      "  68  85   4   4   9  97   4  50   1  24   6  81  73  97  29  66  25  82\n",
      "  73  15  12  15  75  12  36   9   6  88  86  68  29  65  17  89  62  51\n",
      "  18  81  12  51  79  85  97  26  89  53  99  48   1  54  75   7  50   2\n",
      "  67  23  49  91  80  70  63  21  28  34  64  76  56  45  18  28  69  30\n",
      "  38  92  64   2   2  28  36  59  21  38  39  93  35  53  17   8  12  16\n",
      "  19  53  28  85  67  91   3  44  25  25  32  52  59  62  42   3  82  87\n",
      "  78  10  48  99  12  63   6  22  62  30  65  17  67  75  46  87  38  38\n",
      "  99  64  81  22  19  72  43  95  44  57  98  37  36  65  92  39  87  82\n",
      "  61  48  59  94  27  37  63  19  28  93  32  40  49  24  89  80  52  31\n",
      "   9  22   7   4  68  56  44  13  35  26  68  31  64  49  67  53  13  80\n",
      "  45  34  77  40  85  46  24  89  11  25  71   2  81  17  58  85  40   5\n",
      "  13  79   1  21  91  77  76  45  99   0  96  18  85  78  89  21  66  13\n",
      "  61  82  32  34  48  18  90  93  14   2  86  86   2  26  74  86  40  91\n",
      "  10  84  64  55  42  58  56  84   9  60  20  20  86   2  16  55  46  43\n",
      "  61  21  42  37  84   7  99  26  72  95  93  42  66  68  17 100  84  29\n",
      "  49  34  26  39  21  66  89  27  44  67   8   6  46   4  95  90  57   2\n",
      "  68  29  72  89  12   8  66  87  90  33  69  46  64   8  32  17  22  49\n",
      "  24  75  45  28  59  16  26  89  22  96  29  17  67  46  78  41  58  81\n",
      "  38  85  35  21  68  43  63  99  96  94  79  84  77  62  12  18  44   5\n",
      "  11  34  89   0  76  78  33   1  75  71  30  97  35  87  42  38  85 100\n",
      "  16  38  82  97  69  69  37  79  92   5  34  96  84  84  46  92  37  79\n",
      "  21  44  67  42  97  13  55  59 100  32  28  21  47  97  83   6  50  18\n",
      "  89  63  39  84   5  74  14  18  18  36   3  75  50  45  30  71  70  15\n",
      "  45  26  39   6  54  67  53  70  71  82  47  46  15  97  84  34  51  39\n",
      "  16  48  48  78  41  53  33  69  55  24  85  86  36  71  70  77  90  73\n",
      "  71  44  98  80  23  79  51   2  63  97   6  41  57   3  99  89  46  28\n",
      "  25  97  93  35  11   5  92  31  79  15   7  23  54  32  29  75  86  25\n",
      "  47  22  71  10  91  47   4  24  42  13  29   9  82  64  66  57  24  69\n",
      "  88  35  65  14  76  99  17  17  55  46  61  14  35  58   0  77  69  35\n",
      "  93  87  17  93   8   3  48  38  66  11]\n",
      "\n"
     ]
    }
   ],
   "source": [
    "print(f\"D: {D.shape}, {D.dtype}\\n{D}\\n\")"
   ]
  },
  {
   "cell_type": "code",
   "execution_count": 71,
   "metadata": {},
   "outputs": [
    {
     "name": "stdout",
     "output_type": "stream",
     "text": [
      "E: (10000000,), int64\n",
      "[98 21 41 ... 94 91 49]\n",
      "\n"
     ]
    }
   ],
   "source": [
    "print(f\"E: {E.shape}, {E.dtype}\\n{E}\\n\")"
   ]
  },
  {
   "cell_type": "code",
   "execution_count": 72,
   "metadata": {},
   "outputs": [
    {
     "name": "stdout",
     "output_type": "stream",
     "text": [
      "F: (10000000,), int64\n",
      "[37 78 34 ... 17 19 49]\n",
      "\n"
     ]
    }
   ],
   "source": [
    "print(f\"F: {F.shape}, {F.dtype}\\n{F}\\n\")"
   ]
  },
  {
   "cell_type": "markdown",
   "metadata": {},
   "source": [
    "## Matrix Multiplication"
   ]
  },
  {
   "cell_type": "code",
   "execution_count": 73,
   "metadata": {},
   "outputs": [
    {
     "name": "stdout",
     "output_type": "stream",
     "text": [
      "Matrix multiplication of 2 250x250 matrices\n",
      "Time taken: 5.924459218978882 seconds\n"
     ]
    }
   ],
   "source": [
    "# Sequential Matrix Multiplication\n",
    "G = np.zeros((s1, s1), \"int64\")\n",
    "\n",
    "start = time.time()\n",
    "\n",
    "for i in range(s1):\n",
    "    for j in range(s1):\n",
    "        sum = 0\n",
    "        for k in range(s1):\n",
    "            sum += A[i][k] * B[k][j]\n",
    "        G[i][j] = sum\n",
    "\n",
    "end = time.time()\n",
    "smmTotal = end - start\n",
    "\n",
    "print(f\"Matrix multiplication of 2 {s1}x{s1} matrices\")\n",
    "print(f\"Time taken: {smmTotal} seconds\")"
   ]
  },
  {
   "cell_type": "code",
   "execution_count": 74,
   "metadata": {},
   "outputs": [
    {
     "name": "stdout",
     "output_type": "stream",
     "text": [
      "NumPy matrix multiplication of 2 250x250 matrices using SIMD\n",
      "Time taken: 0.009009599685668945 seconds\n"
     ]
    }
   ],
   "source": [
    "# Matrix Multiplication using SIMD\n",
    "start = time.time()\n",
    "\n",
    "H = np.matmul(A, B)\n",
    "# When you import NumPy, it treats the @ operator as the matrix multiplication operator\n",
    "# H = A @ B is the same as H = np.matmul(A, B)\n",
    "\n",
    "end = time.time()\n",
    "pmmTotal = end - start\n",
    "\n",
    "print(f\"NumPy matrix multiplication of 2 {s1}x{s1} matrices using SIMD\")\n",
    "print(f\"Time taken: {pmmTotal} seconds\")"
   ]
  },
  {
   "cell_type": "code",
   "execution_count": 75,
   "metadata": {},
   "outputs": [
    {
     "name": "stdout",
     "output_type": "stream",
     "text": [
      "Matrix Multiplication results match\n"
     ]
    }
   ],
   "source": [
    "# Verify the results\n",
    "if np.array_equal(G, H):\n",
    "    print(\"Matrix Multiplication results match\")\n",
    "else:\n",
    "    print(\"Matrix Multiplication results do not match\")"
   ]
  },
  {
   "cell_type": "code",
   "execution_count": 76,
   "metadata": {},
   "outputs": [
    {
     "name": "stdout",
     "output_type": "stream",
     "text": [
      "Speed up using SIMD: 657.5718595358437x\n"
     ]
    }
   ],
   "source": [
    "# Calculate Speed Up\n",
    "SU = smmTotal / pmmTotal\n",
    "print(f\"Speed up using SIMD: {SU}x\")"
   ]
  },
  {
   "cell_type": "markdown",
   "metadata": {},
   "source": [
    "## Matrix Vector Multiplication"
   ]
  },
  {
   "cell_type": "code",
   "execution_count": 77,
   "metadata": {},
   "outputs": [
    {
     "name": "stdout",
     "output_type": "stream",
     "text": [
      "Sequential matrix vector multiplication of a 1000x1000 matrix and a 1000 element vector\n",
      "Time taken: 0.38127803802490234 seconds\n"
     ]
    }
   ],
   "source": [
    "start = time.time()\n",
    "\n",
    "I = np.zeros(s2, \"int64\")\n",
    "\n",
    "for i in range(s2):\n",
    "    sum = 0\n",
    "    for j in range(s2):\n",
    "        I[i] += C[i][j] * D[j]\n",
    "\n",
    "end = time.time()\n",
    "mvsTotal = end - start\n",
    "\n",
    "print(f\"Sequential matrix vector multiplication of a {s2}x{s2} matrix and a {s2} element vector\")\n",
    "print(f\"Time taken: {mvsTotal} seconds\")"
   ]
  },
  {
   "cell_type": "code",
   "execution_count": 78,
   "metadata": {},
   "outputs": [
    {
     "name": "stdout",
     "output_type": "stream",
     "text": [
      "NumPy matrix vector multiplication of a 1000x1000 matrix and a 1000 element vector using SIMD\n",
      "Time taken: 0.0009996891021728516 seconds\n"
     ]
    }
   ],
   "source": [
    "# Matrix Vector Multiplication using SIMD\n",
    "start = time.time()\n",
    "\n",
    "J = np.matmul(C, D)\n",
    "\n",
    "end = time.time()\n",
    "pmvTotal = end - start\n",
    "\n",
    "print(f\"NumPy matrix vector multiplication of a {s2}x{s2} matrix and a {s2} element vector using SIMD\")\n",
    "print(f\"Time taken: {pmvTotal} seconds\")"
   ]
  },
  {
   "cell_type": "code",
   "execution_count": 79,
   "metadata": {},
   "outputs": [
    {
     "name": "stdout",
     "output_type": "stream",
     "text": [
      "Matrix Vector Multiplication results match\n"
     ]
    }
   ],
   "source": [
    "# Verify the results\n",
    "if np.array_equal(I, J):\n",
    "    print(\"Matrix Vector Multiplication results match\")\n",
    "else:\n",
    "    print(\"Matrix Vector Multiplication results do not match\")"
   ]
  },
  {
   "cell_type": "code",
   "execution_count": 80,
   "metadata": {},
   "outputs": [
    {
     "name": "stdout",
     "output_type": "stream",
     "text": [
      "Speed up using SIMD: 381.3966134032912x\n"
     ]
    }
   ],
   "source": [
    "# Calculate Speed Up\n",
    "SU2 = mvsTotal / pmvTotal\n",
    "print(f\"Speed up using SIMD: {SU2}x\")"
   ]
  },
  {
   "cell_type": "markdown",
   "metadata": {},
   "source": [
    "## Element-wise Vector Addition"
   ]
  },
  {
   "cell_type": "code",
   "execution_count": 81,
   "metadata": {},
   "outputs": [
    {
     "name": "stdout",
     "output_type": "stream",
     "text": [
      "Sequential vector addition of 2 10000000 element vectors\n",
      "Time taken: 2.1058056354522705 seconds\n"
     ]
    }
   ],
   "source": [
    "# Sequential Element-wise Vector Addition\n",
    "K = np.zeros(s3, \"int64\")\n",
    "\n",
    "start = time.time()\n",
    "\n",
    "for i in range(s3):\n",
    "    K[i] = E[i] + F[i]\n",
    "\n",
    "end = time.time()\n",
    "\n",
    "svaTotal = end - start\n",
    "\n",
    "print(f\"Sequential vector addition of 2 {s3} element vectors\")\n",
    "print(f\"Time taken: {svaTotal} seconds\")"
   ]
  },
  {
   "cell_type": "code",
   "execution_count": 82,
   "metadata": {},
   "outputs": [
    {
     "name": "stdout",
     "output_type": "stream",
     "text": [
      "Numpy vector addition of 2 10000000 element vectors using SIMD\n",
      "Time taken: 0.03575325012207031 seconds\n"
     ]
    }
   ],
   "source": [
    "# Element-wise Vector Addition using SIMD\n",
    "start = time.time()\n",
    "\n",
    "L = np.add(E, F)\n",
    "# When you import NumPy, it treats the + operator as the element-wise addition operator\n",
    "# L = E + F is the same as L = np.add(E, F)\n",
    "\n",
    "end = time.time()\n",
    "pvaTotal = end - start\n",
    "\n",
    "print(f\"Numpy vector addition of 2 {s3} element vectors using SIMD\")\n",
    "print(f\"Time taken: {pvaTotal} seconds\")"
   ]
  },
  {
   "cell_type": "code",
   "execution_count": 83,
   "metadata": {},
   "outputs": [
    {
     "name": "stdout",
     "output_type": "stream",
     "text": [
      "Matrix Addition results match\n"
     ]
    }
   ],
   "source": [
    "# Verify the accuracy of the results\n",
    "if np.array_equal(K, L):\n",
    "    print(\"Matrix Addition results match\")\n",
    "else:\n",
    "    print(\"Matrix Addition results do not match!\")"
   ]
  },
  {
   "cell_type": "code",
   "execution_count": 84,
   "metadata": {},
   "outputs": [
    {
     "name": "stdout",
     "output_type": "stream",
     "text": [
      "Speed up using SIMD: 58.89829954654574x\n"
     ]
    }
   ],
   "source": [
    "# Calculate the speed up\n",
    "SU3 = svaTotal / pvaTotal\n",
    "print(f\"Speed up using SIMD: {SU3}x\")"
   ]
  },
  {
   "cell_type": "markdown",
   "metadata": {},
   "source": [
    "## Element-wise Vector Subtraction"
   ]
  },
  {
   "cell_type": "code",
   "execution_count": 85,
   "metadata": {},
   "outputs": [
    {
     "name": "stdout",
     "output_type": "stream",
     "text": [
      "Sequential vector subtraction of 2 10000000 element vectors\n",
      "Time taken: 2.0388548374176025 seconds\n"
     ]
    }
   ],
   "source": [
    "# Sequential Element-wise Vector Subtraction\n",
    "M = np.zeros(s3, \"int64\")\n",
    "\n",
    "start = time.time()\n",
    "\n",
    "for i in range(s3):\n",
    "    M[i] = E[i] - F[i]\n",
    "\n",
    "end = time.time()\n",
    "svsTotal = end - start\n",
    "\n",
    "print(f\"Sequential vector subtraction of 2 {s3} element vectors\")\n",
    "print(f\"Time taken: {svsTotal} seconds\")"
   ]
  },
  {
   "cell_type": "code",
   "execution_count": 86,
   "metadata": {},
   "outputs": [
    {
     "name": "stdout",
     "output_type": "stream",
     "text": [
      "Numpy vector subtraction of 2 10000000 element vectors using SIMD\n",
      "Time taken: 0.027881622314453125 seconds\n"
     ]
    }
   ],
   "source": [
    "# Element-wise Vector Subtraction using SIMD\n",
    "N = np.zeros(s3, \"int64\")\n",
    "\n",
    "start = time.time()\n",
    "\n",
    "N = np.subtract(E, F)\n",
    "# When you import NumPy, it treats the - operator as the element-wise subtraction operator\n",
    "# N = E - F is the same as N = np.subtract(E, F)\n",
    "\n",
    "end = time.time()\n",
    "pvsTotal = end - start\n",
    "\n",
    "print(f\"Numpy vector subtraction of 2 {s3} element vectors using SIMD\")\n",
    "print(f\"Time taken: {pvsTotal} seconds\")"
   ]
  },
  {
   "cell_type": "code",
   "execution_count": 87,
   "metadata": {},
   "outputs": [
    {
     "name": "stdout",
     "output_type": "stream",
     "text": [
      "Vector Subtraction results match\n"
     ]
    }
   ],
   "source": [
    "# Verify the results\n",
    "if np.array_equal(M, N):\n",
    "    print(\"Vector Subtraction results match\")\n",
    "else:\n",
    "    print(\"Vector Subtraction results do not match\")"
   ]
  },
  {
   "cell_type": "code",
   "execution_count": 88,
   "metadata": {},
   "outputs": [
    {
     "name": "stdout",
     "output_type": "stream",
     "text": [
      "Speed up using SIMD: 73.12540190176495x\n"
     ]
    }
   ],
   "source": [
    "# Calculate the speed up\n",
    "SU4 = svsTotal / pvsTotal\n",
    "print(f\"Speed up using SIMD: {SU4}x\")"
   ]
  },
  {
   "cell_type": "markdown",
   "metadata": {},
   "source": [
    "## Dot Product"
   ]
  },
  {
   "cell_type": "code",
   "execution_count": 89,
   "metadata": {},
   "outputs": [
    {
     "name": "stdout",
     "output_type": "stream",
     "text": [
      "Sequential dot product of 2 10000000 element vectors\n",
      "Dot Product: 25001511041\n",
      "Time taken: 1.9618752002716064 seconds\n"
     ]
    }
   ],
   "source": [
    "# Sequential Dot Product\n",
    "start = time.time()\n",
    "\n",
    "sumDP = 0\n",
    "\n",
    "for i in range(s3):\n",
    "    sumDP += E[i] * F[i]\n",
    "\n",
    "end = time.time()\n",
    "sdpTotal = end - start\n",
    "\n",
    "print(f\"Sequential dot product of 2 {s3} element vectors\")\n",
    "print(f\"Dot Product: {sumDP}\")\n",
    "print(f\"Time taken: {sdpTotal} seconds\")"
   ]
  },
  {
   "cell_type": "code",
   "execution_count": 90,
   "metadata": {},
   "outputs": [
    {
     "name": "stdout",
     "output_type": "stream",
     "text": [
      "NumPy dot product of 2 10000000 element vectors using SIMD\n",
      "Dot product: 25001511041\n",
      "Time taken: 0.01227569580078125 seconds\n"
     ]
    }
   ],
   "source": [
    "# Dot Product using SIMD\n",
    "start = time.time()\n",
    "\n",
    "dotProduct = np.dot(E, F)\n",
    "\n",
    "end = time.time()\n",
    "\n",
    "pdpTotal = end - start\n",
    "\n",
    "print(f\"NumPy dot product of 2 {s3} element vectors using SIMD\")\n",
    "print(f\"Dot product: {dotProduct}\")\n",
    "print(f\"Time taken: {pdpTotal} seconds\")"
   ]
  },
  {
   "cell_type": "code",
   "execution_count": 91,
   "metadata": {},
   "outputs": [
    {
     "name": "stdout",
     "output_type": "stream",
     "text": [
      "Dot Product results match\n"
     ]
    }
   ],
   "source": [
    "# Verify the results\n",
    "if sumDP == dotProduct:\n",
    "    print(\"Dot Product results match\")\n",
    "else:\n",
    "    print(\"Dot Product results do not match\")"
   ]
  },
  {
   "cell_type": "code",
   "execution_count": 92,
   "metadata": {},
   "outputs": [
    {
     "name": "stdout",
     "output_type": "stream",
     "text": [
      "Speed up using SIMD: 159.81784105034183x\n"
     ]
    }
   ],
   "source": [
    "SU5 = sdpTotal / pdpTotal\n",
    "print(f\"Speed up using SIMD: {SU5}x\")"
   ]
  }
 ],
 "metadata": {
  "kernelspec": {
   "display_name": "Python 3",
   "language": "python",
   "name": "python3"
  },
  "language_info": {
   "codemirror_mode": {
    "name": "ipython",
    "version": 3
   },
   "file_extension": ".py",
   "mimetype": "text/x-python",
   "name": "python",
   "nbconvert_exporter": "python",
   "pygments_lexer": "ipython3",
   "version": "3.11.9"
  }
 },
 "nbformat": 4,
 "nbformat_minor": 2
}
